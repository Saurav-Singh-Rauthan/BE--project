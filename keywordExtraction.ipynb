{
 "cells": [
  {
   "cell_type": "code",
   "execution_count": 5,
   "id": "9266c08d",
   "metadata": {},
   "outputs": [
    {
     "name": "stdout",
     "output_type": "stream",
     "text": [
      "Collecting pydub\n",
      "  Using cached pydub-0.25.1-py2.py3-none-any.whl (32 kB)\n",
      "Installing collected packages: pydub\n",
      "Successfully installed pydub-0.25.1\n"
     ]
    }
   ],
   "source": [
    "! pip install pydub"
   ]
  },
  {
   "cell_type": "code",
   "execution_count": 7,
   "id": "538af007",
   "metadata": {},
   "outputs": [
    {
     "name": "stdout",
     "output_type": "stream",
     "text": [
      "Collecting static_ffmpeg\n",
      "  Using cached static_ffmpeg-2.3-py2.py3-none-any.whl (6.5 kB)\n",
      "Requirement already satisfied: requests in c:\\users\\saurav singh rauthan\\anaconda3\\lib\\site-packages (from static_ffmpeg) (2.25.1)\n",
      "Requirement already satisfied: filelock in c:\\users\\saurav singh rauthan\\anaconda3\\lib\\site-packages (from static_ffmpeg) (3.0.12)\n",
      "Requirement already satisfied: certifi>=2017.4.17 in c:\\users\\saurav singh rauthan\\anaconda3\\lib\\site-packages (from requests->static_ffmpeg) (2020.12.5)\n",
      "Requirement already satisfied: idna<3,>=2.5 in c:\\users\\saurav singh rauthan\\anaconda3\\lib\\site-packages (from requests->static_ffmpeg) (2.10)\n",
      "Requirement already satisfied: urllib3<1.27,>=1.21.1 in c:\\users\\saurav singh rauthan\\anaconda3\\lib\\site-packages (from requests->static_ffmpeg) (1.26.4)\n",
      "Requirement already satisfied: chardet<5,>=3.0.2 in c:\\users\\saurav singh rauthan\\anaconda3\\lib\\site-packages (from requests->static_ffmpeg) (4.0.0)\n",
      "Installing collected packages: static-ffmpeg\n",
      "Successfully installed static-ffmpeg-2.3\n"
     ]
    }
   ],
   "source": [
    "! pip install static_ffmpeg"
   ]
  },
  {
   "cell_type": "code",
   "execution_count": 8,
   "id": "c3f22f07",
   "metadata": {},
   "outputs": [
    {
     "name": "stdout",
     "output_type": "stream",
     "text": [
      "Collecting pyaudio\n",
      "  Downloading PyAudio-0.2.12-cp38-cp38-win_amd64.whl (163 kB)\n",
      "Installing collected packages: pyaudio\n",
      "Successfully installed pyaudio-0.2.12\n"
     ]
    }
   ],
   "source": [
    "! pip install pyaudio"
   ]
  },
  {
   "cell_type": "code",
   "execution_count": 30,
   "id": "585029d0",
   "metadata": {},
   "outputs": [],
   "source": [
    "# since the model take only wav file as input , so we'll convert the audio format to wav using pydub\n",
    "\n",
    "# from math import round\n",
    "from pydub import AudioSegment\n",
    "from pydub.playback import play\n",
    "import static_ffmpeg\n",
    "\n",
    "static_ffmpeg.add_paths()\n",
    "\n",
    "\n",
    "audio = AudioSegment.from_file(r\"file path here\")\n",
    "\n",
    "# if you want to convert the audio as whole uncomment the code below\n",
    "# audio.export(\"D:/reactproj/BE-project/audio/wav_audio.wav\", format=\"wav\")\n",
    "\n",
    "# we'll split the audio in 3 minutes each to minimize the computational power used by model\n",
    "audio_length = len(audio) / (60 * 1000)\n",
    "\n",
    "split_marker = 180\n",
    "split_audio = [audio[:180 * 1000]]\n",
    "\n",
    "for i in range(round(audio_length / (180 * 1000))):\n",
    "    split_audio.append(audio[split_marker * 1000:(split_marker + 180) * 1000])\n",
    "    split_marker += 180\n",
    "\n",
    "#it will create the file in audio dir, make sure to create audio dir in root folder\n",
    "\n",
    "count = 0\n",
    "for count, audio_sample in enumerate(split_audio):\n",
    "    count += 1\n",
    "    with open(f\"audio/{count}_audi_file.wav\", 'wb') as out_f:\n",
    "        audio_sample.export(out_f, format='wav')"
   ]
  },
  {
   "cell_type": "code",
   "execution_count": 20,
   "id": "978809de",
   "metadata": {},
   "outputs": [
    {
     "name": "stdout",
     "output_type": "stream",
     "text": [
      "Collecting librosa\n",
      "  Downloading librosa-0.9.2-py3-none-any.whl (214 kB)\n",
      "Requirement already satisfied: decorator>=4.0.10 in c:\\users\\saurav singh rauthan\\anaconda3\\lib\\site-packages (from librosa) (5.0.6)\n",
      "Collecting soundfile>=0.10.2\n",
      "  Downloading soundfile-0.11.0-py2.py3-none-win_amd64.whl (1.0 MB)\n",
      "Requirement already satisfied: numba>=0.45.1 in c:\\users\\saurav singh rauthan\\anaconda3\\lib\\site-packages (from librosa) (0.53.1)\n",
      "Requirement already satisfied: scipy>=1.2.0 in c:\\users\\saurav singh rauthan\\anaconda3\\lib\\site-packages (from librosa) (1.6.2)\n",
      "Requirement already satisfied: joblib>=0.14 in c:\\users\\saurav singh rauthan\\anaconda3\\lib\\site-packages (from librosa) (1.0.1)\n",
      "Collecting resampy>=0.2.2\n",
      "  Downloading resampy-0.4.2-py3-none-any.whl (3.1 MB)\n",
      "Collecting pooch>=1.0\n",
      "  Downloading pooch-1.6.0-py3-none-any.whl (56 kB)\n",
      "Requirement already satisfied: scikit-learn>=0.19.1 in c:\\users\\saurav singh rauthan\\anaconda3\\lib\\site-packages (from librosa) (0.24.1)\n",
      "Requirement already satisfied: numpy>=1.17.0 in c:\\users\\saurav singh rauthan\\anaconda3\\lib\\site-packages (from librosa) (1.20.1)\n",
      "Requirement already satisfied: packaging>=20.0 in c:\\users\\saurav singh rauthan\\anaconda3\\lib\\site-packages (from librosa) (20.9)\n",
      "Collecting audioread>=2.1.9\n",
      "  Downloading audioread-3.0.0.tar.gz (377 kB)\n",
      "Requirement already satisfied: setuptools in c:\\users\\saurav singh rauthan\\anaconda3\\lib\\site-packages (from numba>=0.45.1->librosa) (52.0.0.post20210125)\n",
      "Requirement already satisfied: llvmlite<0.37,>=0.36.0rc1 in c:\\users\\saurav singh rauthan\\anaconda3\\lib\\site-packages (from numba>=0.45.1->librosa) (0.36.0)\n",
      "Requirement already satisfied: pyparsing>=2.0.2 in c:\\users\\saurav singh rauthan\\anaconda3\\lib\\site-packages (from packaging>=20.0->librosa) (2.4.7)\n",
      "Requirement already satisfied: requests>=2.19.0 in c:\\users\\saurav singh rauthan\\anaconda3\\lib\\site-packages (from pooch>=1.0->librosa) (2.25.1)\n",
      "Requirement already satisfied: appdirs>=1.3.0 in c:\\users\\saurav singh rauthan\\anaconda3\\lib\\site-packages (from pooch>=1.0->librosa) (1.4.4)\n",
      "Requirement already satisfied: idna<3,>=2.5 in c:\\users\\saurav singh rauthan\\anaconda3\\lib\\site-packages (from requests>=2.19.0->pooch>=1.0->librosa) (2.10)\n",
      "Requirement already satisfied: chardet<5,>=3.0.2 in c:\\users\\saurav singh rauthan\\anaconda3\\lib\\site-packages (from requests>=2.19.0->pooch>=1.0->librosa) (4.0.0)\n",
      "Requirement already satisfied: certifi>=2017.4.17 in c:\\users\\saurav singh rauthan\\anaconda3\\lib\\site-packages (from requests>=2.19.0->pooch>=1.0->librosa) (2020.12.5)\n",
      "Requirement already satisfied: urllib3<1.27,>=1.21.1 in c:\\users\\saurav singh rauthan\\anaconda3\\lib\\site-packages (from requests>=2.19.0->pooch>=1.0->librosa) (1.26.4)\n",
      "Requirement already satisfied: threadpoolctl>=2.0.0 in c:\\users\\saurav singh rauthan\\anaconda3\\lib\\site-packages (from scikit-learn>=0.19.1->librosa) (2.1.0)\n",
      "Requirement already satisfied: cffi>=1.0 in c:\\users\\saurav singh rauthan\\anaconda3\\lib\\site-packages (from soundfile>=0.10.2->librosa) (1.14.5)\n",
      "Requirement already satisfied: pycparser in c:\\users\\saurav singh rauthan\\anaconda3\\lib\\site-packages (from cffi>=1.0->soundfile>=0.10.2->librosa) (2.20)\n",
      "Building wheels for collected packages: audioread\n",
      "  Building wheel for audioread (setup.py): started\n",
      "  Building wheel for audioread (setup.py): finished with status 'done'\n",
      "  Created wheel for audioread: filename=audioread-3.0.0-py3-none-any.whl size=23694 sha256=9b3a5c70d82c5e4f9be282768db9cbdda5c37b6003f8e625d933f67a646af23b\n",
      "  Stored in directory: c:\\users\\saurav singh rauthan\\appdata\\local\\pip\\cache\\wheels\\0a\\ed\\be\\49df2538fca496690a024a4374455584d65c2afd6fc3d6e9c7\n",
      "Successfully built audioread\n",
      "Installing collected packages: soundfile, resampy, pooch, audioread, librosa\n",
      "Successfully installed audioread-3.0.0 librosa-0.9.2 pooch-1.6.0 resampy-0.4.2 soundfile-0.11.0\n",
      "Collecting torch\n",
      "  Downloading torch-1.13.0-cp38-cp38-win_amd64.whl (167.3 MB)\n",
      "Requirement already satisfied: typing-extensions in c:\\users\\saurav singh rauthan\\anaconda3\\lib\\site-packages (from torch) (3.7.4.3)\n",
      "Installing collected packages: torch\n",
      "Successfully installed torch-1.13.0\n",
      "Collecting transformers\n",
      "  Downloading transformers-4.23.1-py3-none-any.whl (5.3 MB)\n",
      "Requirement already satisfied: regex!=2019.12.17 in c:\\users\\saurav singh rauthan\\anaconda3\\lib\\site-packages (from transformers) (2021.4.4)\n",
      "Requirement already satisfied: filelock in c:\\users\\saurav singh rauthan\\anaconda3\\lib\\site-packages (from transformers) (3.0.12)\n",
      "Requirement already satisfied: numpy>=1.17 in c:\\users\\saurav singh rauthan\\anaconda3\\lib\\site-packages (from transformers) (1.20.1)\n",
      "Requirement already satisfied: pyyaml>=5.1 in c:\\users\\saurav singh rauthan\\anaconda3\\lib\\site-packages (from transformers) (5.4.1)\n",
      "Collecting huggingface-hub<1.0,>=0.10.0\n",
      "  Downloading huggingface_hub-0.10.1-py3-none-any.whl (163 kB)\n",
      "Requirement already satisfied: tqdm>=4.27 in c:\\users\\saurav singh rauthan\\anaconda3\\lib\\site-packages (from transformers) (4.59.0)\n",
      "Requirement already satisfied: requests in c:\\users\\saurav singh rauthan\\anaconda3\\lib\\site-packages (from transformers) (2.25.1)\n",
      "Requirement already satisfied: packaging>=20.0 in c:\\users\\saurav singh rauthan\\anaconda3\\lib\\site-packages (from transformers) (20.9)\n",
      "Collecting tokenizers!=0.11.3,<0.14,>=0.11.1\n",
      "  Downloading tokenizers-0.13.1-cp38-cp38-win_amd64.whl (3.3 MB)\n",
      "Requirement already satisfied: typing-extensions>=3.7.4.3 in c:\\users\\saurav singh rauthan\\anaconda3\\lib\\site-packages (from huggingface-hub<1.0,>=0.10.0->transformers) (3.7.4.3)\n",
      "Requirement already satisfied: pyparsing>=2.0.2 in c:\\users\\saurav singh rauthan\\anaconda3\\lib\\site-packages (from packaging>=20.0->transformers) (2.4.7)\n",
      "Requirement already satisfied: urllib3<1.27,>=1.21.1 in c:\\users\\saurav singh rauthan\\anaconda3\\lib\\site-packages (from requests->transformers) (1.26.4)\n",
      "Requirement already satisfied: chardet<5,>=3.0.2 in c:\\users\\saurav singh rauthan\\anaconda3\\lib\\site-packages (from requests->transformers) (4.0.0)\n",
      "Requirement already satisfied: idna<3,>=2.5 in c:\\users\\saurav singh rauthan\\anaconda3\\lib\\site-packages (from requests->transformers) (2.10)\n",
      "Requirement already satisfied: certifi>=2017.4.17 in c:\\users\\saurav singh rauthan\\anaconda3\\lib\\site-packages (from requests->transformers) (2020.12.5)\n",
      "Installing collected packages: tokenizers, huggingface-hub, transformers\n",
      "Successfully installed huggingface-hub-0.10.1 tokenizers-0.13.1 transformers-4.23.1\n"
     ]
    }
   ],
   "source": [
    "! pip install librosa\n",
    "! pip install torch\n",
    "! pip install transformers"
   ]
  },
  {
   "cell_type": "code",
   "execution_count": 31,
   "id": "963c747d",
   "metadata": {},
   "outputs": [
    {
     "name": "stderr",
     "output_type": "stream",
     "text": [
      "The tokenizer class you load from this checkpoint is not the same type as the class this function is called from. It may result in unexpected tokenization. \n",
      "The tokenizer class you load from this checkpoint is 'Wav2Vec2CTCTokenizer'. \n",
      "The class this function is called from is 'Wav2Vec2Tokenizer'.\n",
      "Some weights of Wav2Vec2ForCTC were not initialized from the model checkpoint at facebook/wav2vec2-base-960h and are newly initialized: ['wav2vec2.masked_spec_embed']\n",
      "You should probably TRAIN this model on a down-stream task to be able to use it for predictions and inference.\n"
     ]
    },
    {
     "name": "stdout",
     "output_type": "stream",
     "text": [
      "loaded 0.3562666666666667\n",
      "True\n",
      "O WHEN I WAS LYING THERE IN THE VIAY HOSPITAL WITH A BIG HALL BLOWN TO THE MIDDLE OF MY LIFE S THOUGH DID HAVING THESE DREAMS OF FLY OS STREE\n"
     ]
    }
   ],
   "source": [
    "import librosa\n",
    "import torch\n",
    "from transformers import Wav2Vec2ForCTC, Wav2Vec2Tokenizer\n",
    "import os\n",
    "\n",
    "# loading model and tokenizer\n",
    "tokenizer = Wav2Vec2Tokenizer.from_pretrained(\"facebook/wav2vec2-base-960h\")\n",
    "model = Wav2Vec2ForCTC.from_pretrained(\"facebook/wav2vec2-base-960h\")\n",
    "\n",
    "print(\"loaded\",audio_length)\n",
    "\n",
    "text_arr = []\n",
    "for i in range(len(split_audio)):\n",
    "    # loading audio in model from the audio dir\n",
    "    speech, rate = librosa.load(f\"audio/{i+1}_audi_file.wav\", sr=16000) \n",
    "    \n",
    "    input_values = tokenizer(speech, return_tensors='pt').input_values\n",
    "    with torch.no_grad():\n",
    "        logits = model(input_values).logits\n",
    "        \n",
    "    predicted_ids = torch.argmax(logits, dim=-1)\n",
    "    transcription = tokenizer.batch_decode(predicted_ids)[0]\n",
    "    text_arr.append(transcription)\n",
    "    \n",
    "final_speech = \"\"\n",
    "for speech in text_arr:\n",
    "    final_speech += speech\n",
    "print(final_speech)"
   ]
  },
  {
   "cell_type": "code",
   "execution_count": null,
   "id": "83617dee",
   "metadata": {},
   "outputs": [],
   "source": []
  }
 ],
 "metadata": {
  "kernelspec": {
   "display_name": "Python 3.9.1 64-bit",
   "language": "python",
   "name": "python3"
  },
  "language_info": {
   "codemirror_mode": {
    "name": "ipython",
    "version": 3
   },
   "file_extension": ".py",
   "mimetype": "text/x-python",
   "name": "python",
   "nbconvert_exporter": "python",
   "pygments_lexer": "ipython3",
   "version": "3.9.1"
  },
  "vscode": {
   "interpreter": {
    "hash": "81794d4967e6c3204c66dcd87b604927b115b27c00565d3d43f05ba2f3a2cb0d"
   }
  }
 },
 "nbformat": 4,
 "nbformat_minor": 5
}
